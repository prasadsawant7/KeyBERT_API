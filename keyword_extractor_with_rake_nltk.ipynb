{
  "nbformat": 4,
  "nbformat_minor": 0,
  "metadata": {
    "colab": {
      "provenance": [],
      "mount_file_id": "1L0FjueEgeyZpB7wmknjMppsyCF5H_cxz",
      "authorship_tag": "ABX9TyP8/4zfPOWU4ARl1/xN/VdR",
      "include_colab_link": true
    },
    "kernelspec": {
      "name": "python3",
      "display_name": "Python 3"
    },
    "language_info": {
      "name": "python"
    }
  },
  "cells": [
    {
      "cell_type": "markdown",
      "metadata": {
        "id": "view-in-github",
        "colab_type": "text"
      },
      "source": [
        "<a href=\"https://colab.research.google.com/github/prasadsawant7/KeyBERT_API/blob/main/keyword_extractor_with_rake_nltk.ipynb\" target=\"_parent\"><img src=\"https://colab.research.google.com/assets/colab-badge.svg\" alt=\"Open In Colab\"/></a>"
      ]
    },
    {
      "cell_type": "code",
      "execution_count": null,
      "metadata": {
        "id": "7yAR_Ouh-d3V"
      },
      "outputs": [],
      "source": [
        "! pip install rake-nltk"
      ]
    },
    {
      "cell_type": "code",
      "source": [
        "from rake_nltk import Rake, Metric\n",
        "from rake_nltk.rake import string\n",
        "import nltk\n",
        "import pandas as pd\n",
        "\n",
        "nltk.download('stopwords')\n",
        "nltk.download('punkt')"
      ],
      "metadata": {
        "id": "nUozl1s1-qMe"
      },
      "execution_count": null,
      "outputs": []
    },
    {
      "cell_type": "code",
      "source": [
        "data = pd.read_csv(\"drive/MyDrive/Datasets/Emotion_final.csv\")\n",
        "data.head()"
      ],
      "metadata": {
        "colab": {
          "base_uri": "https://localhost:8080/",
          "height": 206
        },
        "id": "OnNHF6S9IGH-",
        "outputId": "b453e572-2eb1-443d-bf2e-1943cd96450b"
      },
      "execution_count": null,
      "outputs": [
        {
          "output_type": "execute_result",
          "data": {
            "text/plain": [
              "                                                Text  Emotion\n",
              "0                            i didnt feel humiliated  sadness\n",
              "1  i can go from feeling so hopeless to so damned...  sadness\n",
              "2   im grabbing a minute to post i feel greedy wrong    anger\n",
              "3  i am ever feeling nostalgic about the fireplac...     love\n",
              "4                               i am feeling grouchy    anger"
            ],
            "text/html": [
              "\n",
              "  <div id=\"df-10689010-2217-406c-8e23-1f678b01f537\">\n",
              "    <div class=\"colab-df-container\">\n",
              "      <div>\n",
              "<style scoped>\n",
              "    .dataframe tbody tr th:only-of-type {\n",
              "        vertical-align: middle;\n",
              "    }\n",
              "\n",
              "    .dataframe tbody tr th {\n",
              "        vertical-align: top;\n",
              "    }\n",
              "\n",
              "    .dataframe thead th {\n",
              "        text-align: right;\n",
              "    }\n",
              "</style>\n",
              "<table border=\"1\" class=\"dataframe\">\n",
              "  <thead>\n",
              "    <tr style=\"text-align: right;\">\n",
              "      <th></th>\n",
              "      <th>Text</th>\n",
              "      <th>Emotion</th>\n",
              "    </tr>\n",
              "  </thead>\n",
              "  <tbody>\n",
              "    <tr>\n",
              "      <th>0</th>\n",
              "      <td>i didnt feel humiliated</td>\n",
              "      <td>sadness</td>\n",
              "    </tr>\n",
              "    <tr>\n",
              "      <th>1</th>\n",
              "      <td>i can go from feeling so hopeless to so damned...</td>\n",
              "      <td>sadness</td>\n",
              "    </tr>\n",
              "    <tr>\n",
              "      <th>2</th>\n",
              "      <td>im grabbing a minute to post i feel greedy wrong</td>\n",
              "      <td>anger</td>\n",
              "    </tr>\n",
              "    <tr>\n",
              "      <th>3</th>\n",
              "      <td>i am ever feeling nostalgic about the fireplac...</td>\n",
              "      <td>love</td>\n",
              "    </tr>\n",
              "    <tr>\n",
              "      <th>4</th>\n",
              "      <td>i am feeling grouchy</td>\n",
              "      <td>anger</td>\n",
              "    </tr>\n",
              "  </tbody>\n",
              "</table>\n",
              "</div>\n",
              "      <button class=\"colab-df-convert\" onclick=\"convertToInteractive('df-10689010-2217-406c-8e23-1f678b01f537')\"\n",
              "              title=\"Convert this dataframe to an interactive table.\"\n",
              "              style=\"display:none;\">\n",
              "        \n",
              "  <svg xmlns=\"http://www.w3.org/2000/svg\" height=\"24px\"viewBox=\"0 0 24 24\"\n",
              "       width=\"24px\">\n",
              "    <path d=\"M0 0h24v24H0V0z\" fill=\"none\"/>\n",
              "    <path d=\"M18.56 5.44l.94 2.06.94-2.06 2.06-.94-2.06-.94-.94-2.06-.94 2.06-2.06.94zm-11 1L8.5 8.5l.94-2.06 2.06-.94-2.06-.94L8.5 2.5l-.94 2.06-2.06.94zm10 10l.94 2.06.94-2.06 2.06-.94-2.06-.94-.94-2.06-.94 2.06-2.06.94z\"/><path d=\"M17.41 7.96l-1.37-1.37c-.4-.4-.92-.59-1.43-.59-.52 0-1.04.2-1.43.59L10.3 9.45l-7.72 7.72c-.78.78-.78 2.05 0 2.83L4 21.41c.39.39.9.59 1.41.59.51 0 1.02-.2 1.41-.59l7.78-7.78 2.81-2.81c.8-.78.8-2.07 0-2.86zM5.41 20L4 18.59l7.72-7.72 1.47 1.35L5.41 20z\"/>\n",
              "  </svg>\n",
              "      </button>\n",
              "      \n",
              "  <style>\n",
              "    .colab-df-container {\n",
              "      display:flex;\n",
              "      flex-wrap:wrap;\n",
              "      gap: 12px;\n",
              "    }\n",
              "\n",
              "    .colab-df-convert {\n",
              "      background-color: #E8F0FE;\n",
              "      border: none;\n",
              "      border-radius: 50%;\n",
              "      cursor: pointer;\n",
              "      display: none;\n",
              "      fill: #1967D2;\n",
              "      height: 32px;\n",
              "      padding: 0 0 0 0;\n",
              "      width: 32px;\n",
              "    }\n",
              "\n",
              "    .colab-df-convert:hover {\n",
              "      background-color: #E2EBFA;\n",
              "      box-shadow: 0px 1px 2px rgba(60, 64, 67, 0.3), 0px 1px 3px 1px rgba(60, 64, 67, 0.15);\n",
              "      fill: #174EA6;\n",
              "    }\n",
              "\n",
              "    [theme=dark] .colab-df-convert {\n",
              "      background-color: #3B4455;\n",
              "      fill: #D2E3FC;\n",
              "    }\n",
              "\n",
              "    [theme=dark] .colab-df-convert:hover {\n",
              "      background-color: #434B5C;\n",
              "      box-shadow: 0px 1px 3px 1px rgba(0, 0, 0, 0.15);\n",
              "      filter: drop-shadow(0px 1px 2px rgba(0, 0, 0, 0.3));\n",
              "      fill: #FFFFFF;\n",
              "    }\n",
              "  </style>\n",
              "\n",
              "      <script>\n",
              "        const buttonEl =\n",
              "          document.querySelector('#df-10689010-2217-406c-8e23-1f678b01f537 button.colab-df-convert');\n",
              "        buttonEl.style.display =\n",
              "          google.colab.kernel.accessAllowed ? 'block' : 'none';\n",
              "\n",
              "        async function convertToInteractive(key) {\n",
              "          const element = document.querySelector('#df-10689010-2217-406c-8e23-1f678b01f537');\n",
              "          const dataTable =\n",
              "            await google.colab.kernel.invokeFunction('convertToInteractive',\n",
              "                                                     [key], {});\n",
              "          if (!dataTable) return;\n",
              "\n",
              "          const docLinkHtml = 'Like what you see? Visit the ' +\n",
              "            '<a target=\"_blank\" href=https://colab.research.google.com/notebooks/data_table.ipynb>data table notebook</a>'\n",
              "            + ' to learn more about interactive tables.';\n",
              "          element.innerHTML = '';\n",
              "          dataTable['output_type'] = 'display_data';\n",
              "          await google.colab.output.renderOutput(dataTable, element);\n",
              "          const docLink = document.createElement('div');\n",
              "          docLink.innerHTML = docLinkHtml;\n",
              "          element.appendChild(docLink);\n",
              "        }\n",
              "      </script>\n",
              "    </div>\n",
              "  </div>\n",
              "  "
            ]
          },
          "metadata": {},
          "execution_count": 46
        }
      ]
    },
    {
      "cell_type": "code",
      "source": [
        "class KeywordExtractor(Rake):\n",
        "  def __init__(self, stopwords=None, punctuations=string.punctuation, language=\"english\", ranking_metric=Metric.DEGREE_TO_FREQUENCY_RATIO, max_length=100000, min_length=2):\n",
        "        super().__init__(stopwords, punctuations, language, ranking_metric, max_length, min_length)\n",
        "\n",
        "  def get_top_n_keywords(self, text: str, n=5):\n",
        "      self.extract_keywords_from_text(text)\n",
        "      return self.get_ranked_phrases_with_scores()[:n]"
      ],
      "metadata": {
        "id": "cYAvLElUAA1e"
      },
      "execution_count": null,
      "outputs": []
    },
    {
      "cell_type": "code",
      "source": [
        "ke = KeywordExtractor()\n",
        "for i in range(20):\n",
        "  keywords_with_scores = ke.get_top_n_keywords(data['Text'][i])\n",
        "  for score, keyword in keywords_with_scores:\n",
        "    print(f\"Keyword: {keyword}, Score: {score}\")"
      ],
      "metadata": {
        "colab": {
          "base_uri": "https://localhost:8080/"
        },
        "id": "29qJpPYgEJ9O",
        "outputId": "98996a14-f221-4033-e2da-813bf14f973a"
      },
      "execution_count": null,
      "outputs": [
        {
          "output_type": "stream",
          "name": "stdout",
          "text": [
            "Keyword: didnt feel humiliated, Score: 9.0\n",
            "Keyword: damned hopeful, Score: 4.0\n",
            "Keyword: around someone, Score: 4.0\n",
            "Keyword: feel greedy wrong, Score: 9.0\n",
            "Keyword: im grabbing, Score: 4.0\n",
            "Keyword: ever feeling nostalgic, Score: 9.0\n",
            "Keyword: feeling grouchy, Score: 4.0\n",
            "Keyword: little burdened lately wasnt sure, Score: 25.0\n",
            "Keyword: times recommended amount, Score: 9.0\n",
            "Keyword: ive fallen asleep, Score: 9.0\n",
            "Keyword: also feel like, Score: 9.0\n",
            "Keyword: lot faster, Score: 4.0\n",
            "Keyword: year old man, Score: 9.0\n",
            "Keyword: performed well, Score: 4.0\n",
            "Keyword: huge profit, Score: 4.0\n",
            "Keyword: feel romantic, Score: 4.0\n",
            "Keyword: seeing mean something, Score: 9.0\n",
            "Keyword: feel like, Score: 4.0\n",
            "Keyword: spiritual encounter, Score: 4.0\n",
            "Keyword: divine experience, Score: 4.0\n",
            "Keyword: feel dissatisfied, Score: 4.0\n",
            "Keyword: easiest time, Score: 4.0\n",
            "Keyword: feel low energy, Score: 9.0\n",
            "Keyword: possible proto writer trying, Score: 16.0\n",
            "Keyword: agent let alone, Score: 9.0\n",
            "Keyword: publishing contract, Score: 4.0\n",
            "Keyword: little precious, Score: 4.0\n",
            "Keyword: immense sympathy, Score: 4.0\n",
            "Keyword: feel reassured anxiety, Score: 9.0\n",
            "Keyword: didnt really feel, Score: 9.0\n",
            "Keyword: feel pretty pathetic, Score: 9.0\n",
            "Keyword: vintage barbie dolls, Score: 9.0\n",
            "Keyword: started feeling sentimental, Score: 9.0\n",
            "Keyword: feel compromised, Score: 4.0\n",
            "Keyword: every unit, Score: 4.0\n"
          ]
        }
      ]
    }
  ]
}